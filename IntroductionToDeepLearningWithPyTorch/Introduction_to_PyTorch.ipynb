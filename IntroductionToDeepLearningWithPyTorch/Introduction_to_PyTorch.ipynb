{
  "nbformat": 4,
  "nbformat_minor": 0,
  "metadata": {
    "colab": {
      "name": "Introduction to PyTorch.ipynb",
      "provenance": []
    },
    "kernelspec": {
      "name": "python3",
      "display_name": "Python 3"
    },
    "language_info": {
      "name": "python"
    }
  },
  "cells": [
    {
      "cell_type": "code",
      "source": [
        "!pip install torch"
      ],
      "metadata": {
        "colab": {
          "base_uri": "https://localhost:8080/"
        },
        "id": "7OutOhbPFzm-",
        "outputId": "f39e09b6-3e7b-489c-ea97-c10ae793e978"
      },
      "execution_count": 2,
      "outputs": [
        {
          "output_type": "stream",
          "name": "stdout",
          "text": [
            "Looking in indexes: https://pypi.org/simple, https://us-python.pkg.dev/colab-wheels/public/simple/\n",
            "Requirement already satisfied: torch in /usr/local/lib/python3.7/dist-packages (1.11.0+cu113)\n",
            "Requirement already satisfied: typing-extensions in /usr/local/lib/python3.7/dist-packages (from torch) (4.2.0)\n"
          ]
        }
      ]
    },
    {
      "cell_type": "code",
      "execution_count": 1,
      "metadata": {
        "colab": {
          "base_uri": "https://localhost:8080/"
        },
        "id": "in-I5PCuEtPD",
        "outputId": "00c5a2c6-c386-49a6-9d0c-abd82bf0a83c"
      },
      "outputs": [
        {
          "output_type": "stream",
          "name": "stdout",
          "text": [
            "tensor([[0.2088, 0.4819, 0.2507],\n",
            "        [0.1624, 0.1697, 0.9547],\n",
            "        [0.3918, 0.3733, 0.6478]])\n",
            "torch.Size([3, 3])\n"
          ]
        }
      ],
      "source": [
        "# Import torch\n",
        "import torch\n",
        "\n",
        "# Create random tensor of size 3 by 3\n",
        "your_first_tensor = torch.rand((3, 3))\n",
        "\n",
        "# Calculate the shape of the tensor\n",
        "tensor_size = your_first_tensor.shape\n",
        "\n",
        "# Print the values of the tensor and its shape\n",
        "print(your_first_tensor)\n",
        "print(tensor_size)"
      ]
    },
    {
      "cell_type": "code",
      "source": [
        "# Create a matrix of ones with shape 3 by 3\n",
        "tensor_of_ones = torch.ones(3, 3)\n",
        "\n",
        "# Create an identity matrix with shape 3 by 3\n",
        "identity_tensor = torch.eye(3)\n",
        "\n",
        "# Do a matrix multiplication of tensor_of_ones with identity_tensor\n",
        "matrices_multiplied = torch.matmul(tensor_of_ones, identity_tensor)\n",
        "print(matrices_multiplied)\n",
        "\n",
        "# Do an element-wise multiplication of tensor_of_ones with identity_tensor\n",
        "element_multiplication = tensor_of_ones * identity_tensor\n",
        "print(element_multiplication)"
      ],
      "metadata": {
        "colab": {
          "base_uri": "https://localhost:8080/"
        },
        "id": "-WQ1Og9dF0Z1",
        "outputId": "7dadf0a3-aa3f-464d-8be8-9aec0c7b4fc7"
      },
      "execution_count": 3,
      "outputs": [
        {
          "output_type": "stream",
          "name": "stdout",
          "text": [
            "tensor([[1., 1., 1.],\n",
            "        [1., 1., 1.],\n",
            "        [1., 1., 1.]])\n",
            "tensor([[1., 0., 0.],\n",
            "        [0., 1., 0.],\n",
            "        [0., 0., 1.]])\n"
          ]
        }
      ]
    },
    {
      "cell_type": "markdown",
      "source": [
        "- Initialize random tensors x, y and z, each having shape (1000, 1000).\n",
        "- Multiply x with y, putting the result in tensor q.\n",
        "- Do an elementwise multiplication of tensor z with tensor q, putting the results in f"
      ],
      "metadata": {
        "id": "NFgae7wbK4nh"
      }
    },
    {
      "cell_type": "code",
      "source": [
        "# Initialize tensors x, y and z\n",
        "x = torch.rand(1000, 1000)\n",
        "y = torch.rand(1000, 1000)\n",
        "z = torch.rand(1000, 1000)\n",
        "\n",
        "# Multiply x with y\n",
        "q = x * y\n",
        "\n",
        "# Multiply elementwise z with q\n",
        "f = z * q\n",
        "\n",
        "mean_f = torch.mean(f)\n",
        "print(mean_f)"
      ],
      "metadata": {
        "colab": {
          "base_uri": "https://localhost:8080/"
        },
        "id": "zACk-lDRILkG",
        "outputId": "dd6f468f-5f1c-4baa-83ae-e4f8aea7f4eb"
      },
      "execution_count": 4,
      "outputs": [
        {
          "output_type": "stream",
          "name": "stdout",
          "text": [
            "tensor(0.1249)\n"
          ]
        }
      ]
    },
    {
      "cell_type": "markdown",
      "source": [
        "Backpropagation using PyTorch"
      ],
      "metadata": {
        "id": "1uN_l5mjQ7it"
      }
    },
    {
      "cell_type": "code",
      "source": [
        "# Initialize x, y and z to values 4, -3 and 5\n",
        "x = torch.tensor(4., requires_grad=True)\n",
        "y = torch.tensor(-3., requires_grad=True)\n",
        "z = torch.tensor(5., requires_grad=True)\n",
        "\n",
        "# Set q to sum of x and y, set f to product of q with z\n",
        "q = x + y\n",
        "f = q * z\n",
        "\n",
        "# Compute the derivatives\n",
        "f.backward()\n",
        "\n",
        "# Print the gradients\n",
        "print(\"Gradient of x is: \" + str(x.grad))\n",
        "print(\"Gradient of y is: \" + str(y.grad))\n",
        "print(\"Gradient of z is: \" + str(z.grad))"
      ],
      "metadata": {
        "colab": {
          "base_uri": "https://localhost:8080/"
        },
        "id": "Xij-G-4eK_Op",
        "outputId": "3e2707dd-624f-43aa-e0ab-e8b6bbbfad66"
      },
      "execution_count": 5,
      "outputs": [
        {
          "output_type": "stream",
          "name": "stdout",
          "text": [
            "Gradient of x is: tensor(5.)\n",
            "Gradient of y is: tensor(5.)\n",
            "Gradient of z is: tensor(1.)\n"
          ]
        }
      ]
    },
    {
      "cell_type": "code",
      "source": [
        "# Multiply tensors x and y\n",
        "q = torch.matmul(x, y)\n",
        "\n",
        "# Elementwise multiply tensors z with q\n",
        "f = z * q\n",
        "\n",
        "mean_f = torch.mean(f)\n",
        "\n",
        "# Calculate the gradients\n",
        "mean_f.backward()"
      ],
      "metadata": {
        "id": "qUiR3PNMUV_o"
      },
      "execution_count": null,
      "outputs": []
    },
    {
      "cell_type": "markdown",
      "source": [
        "# Introduction to Neural Networks\n",
        "- the job of the hidden layers is to get good features, while the job of the output layer is to classify those features.\n",
        "\n",
        "- Look at the matrix of weights, the first dimension should always correspond to the preceding layer, while the second dimension to the following layer. As you can imagine, `h1` contains 20 units. Similarly, we continue for the second hidden layer `h2`, which is the product of the first hidden layer `h1` and the second matrix of weights `w2`. Finally, we get the results of the output_layer, which has 4 classes, by multiplying the second hidden layer `h2` with the third matrix of weights `w3`.\n",
        "- (=)가중치 행렬을 보면 첫 번째 차원은 항상 이전 레이어와 일치해야 하고 두 번째 차원은 다음 레이어와 일치해야 합니다. 상상할 수 있듯이 `h1`에는 20개의 단위가 있습니다. 유사하게, 첫 번째 히든 레이어 'h1'과 가중치 'w2'의 두 번째 행렬의 곱인 두 번째 히든 레이어 'h2'에 대해 계속 진행합니다. 마지막으로 두 번째 히든 레이어 'h2'와 가중치 'w3'의 세 번째 행렬을 곱하여 4개의 클래스를 가진 output_layer의 결과를 얻습니다."
      ],
      "metadata": {
        "id": "kQU1f9mLWqTF"
      }
    },
    {
      "cell_type": "code",
      "source": [
        "import torch\n",
        "\n",
        "input_layer = torch.rand(10)\n",
        "\n",
        "w1 = torch.rand(10, 20)\n",
        "w2 = torch.rand(20, 20)\n",
        "w3 = torch.rand(20, 4)\n",
        "\n",
        "h1 = torch.matmul(input_layer, w1)\n",
        "h2 = torch.matmul(h1, w2)\n",
        "output_layer = torch.matmul(h2, w3)\n",
        "\n",
        "print(output_layer)"
      ],
      "metadata": {
        "colab": {
          "base_uri": "https://localhost:8080/"
        },
        "id": "Tgn4Jln8Xubs",
        "outputId": "96a73eae-9420-4d42-a829-c28ee82af66b"
      },
      "execution_count": 6,
      "outputs": [
        {
          "output_type": "stream",
          "name": "stdout",
          "text": [
            "tensor([354.3600, 289.8020, 302.2944, 324.6020])\n"
          ]
        }
      ]
    },
    {
      "cell_type": "code",
      "source": [
        "import torch.nn as nn\n",
        "\n",
        "class Net(nn.Module):\n",
        "    def __init__(self):\n",
        "        super(Net, self).__init__()\n",
        "        self.fc1 = nn.Linear(10, 20)\n",
        "        self.fc2 = nn.Linear(20, 20)\n",
        "        self.output = nn.Linear(20, 4)\n",
        "    \n",
        "    def forward(self, x):\n",
        "        x = self.fc1(x)\n",
        "        x = self.fc2(x)\n",
        "        x = self.output(x)\n",
        "        return x"
      ],
      "metadata": {
        "id": "h9KMDCARYOzb"
      },
      "execution_count": 8,
      "outputs": []
    },
    {
      "cell_type": "code",
      "source": [
        "'''\n",
        "You are going to build a neural network in PyTorch, \n",
        "using the hard way. Your input will be images of size (28, 28), \n",
        "so images containing 784 pixels. Your network will contain an input_layer (provided for you), \n",
        "a hidden layer with 200 units, and an output layer with 10 classes. \n",
        "\n",
        "The input layer has already been created for you. \n",
        "You are going to create the weights, and then do matrix multiplications, getting the results from the network.\n",
        "'''\n",
        "\n",
        "# Initialize the weights of the neural network\n",
        "weight_1 = torch.rand(784, 20)\n",
        "weight_2 = torch.rand(20, 10)\n",
        "\n",
        "# Multiply input_layer with weight_1\n",
        "hidden_1 = torch.matmul(input_layer, weight_1)\n",
        "\n",
        "# Multiply hidden_1 with weight_2\n",
        "output_layer = torch.matmul(hidden_1, weight_2)\n",
        "print(output_layer)"
      ],
      "metadata": {
        "colab": {
          "base_uri": "https://localhost:8080/",
          "height": 241
        },
        "id": "VGDIQK4FZTd2",
        "outputId": "69ed3b13-35cb-48db-9009-fec7c06f5fea"
      },
      "execution_count": 9,
      "outputs": [
        {
          "output_type": "error",
          "ename": "RuntimeError",
          "evalue": "ignored",
          "traceback": [
            "\u001b[0;31m---------------------------------------------------------------------------\u001b[0m",
            "\u001b[0;31mRuntimeError\u001b[0m                              Traceback (most recent call last)",
            "\u001b[0;32m<ipython-input-9-2f9a7014fd98>\u001b[0m in \u001b[0;36m<module>\u001b[0;34m()\u001b[0m\n\u001b[1;32m     14\u001b[0m \u001b[0;34m\u001b[0m\u001b[0m\n\u001b[1;32m     15\u001b[0m \u001b[0;31m# Multiply input_layer with weight_1\u001b[0m\u001b[0;34m\u001b[0m\u001b[0;34m\u001b[0m\u001b[0;34m\u001b[0m\u001b[0m\n\u001b[0;32m---> 16\u001b[0;31m \u001b[0mhidden_1\u001b[0m \u001b[0;34m=\u001b[0m \u001b[0mtorch\u001b[0m\u001b[0;34m.\u001b[0m\u001b[0mmatmul\u001b[0m\u001b[0;34m(\u001b[0m\u001b[0minput_layer\u001b[0m\u001b[0;34m,\u001b[0m \u001b[0mweight_1\u001b[0m\u001b[0;34m)\u001b[0m\u001b[0;34m\u001b[0m\u001b[0;34m\u001b[0m\u001b[0m\n\u001b[0m\u001b[1;32m     17\u001b[0m \u001b[0;34m\u001b[0m\u001b[0m\n\u001b[1;32m     18\u001b[0m \u001b[0;31m# Multiply hidden_1 with weight_2\u001b[0m\u001b[0;34m\u001b[0m\u001b[0;34m\u001b[0m\u001b[0;34m\u001b[0m\u001b[0m\n",
            "\u001b[0;31mRuntimeError\u001b[0m: mat1 and mat2 shapes cannot be multiplied (1x10 and 784x20)"
          ]
        }
      ]
    },
    {
      "cell_type": "code",
      "source": [
        "class Net(nn.Module):\n",
        "    def __init__(self):\n",
        "        super(Net, self).__init__()\n",
        "        \n",
        "        # Instantiate all 2 linear layers  \n",
        "        self.fc1 = nn.Linear(784, 200)\n",
        "        self.fc2 = nn.Linear(200, 10)\n",
        "\n",
        "    def forward(self, x):\n",
        "      \n",
        "        # Use the instantiated layers and return x\n",
        "        x = self.fc1(x)\n",
        "        x = self.fc2(x)\n",
        "        return x"
      ],
      "metadata": {
        "id": "dAID2agIaQbR"
      },
      "execution_count": 10,
      "outputs": []
    },
    {
      "cell_type": "code",
      "source": [
        ""
      ],
      "metadata": {
        "id": "rFgikvQoapgX"
      },
      "execution_count": null,
      "outputs": []
    }
  ]
}