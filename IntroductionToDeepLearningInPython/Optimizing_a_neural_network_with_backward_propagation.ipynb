{
  "nbformat": 4,
  "nbformat_minor": 0,
  "metadata": {
    "colab": {
      "name": "Optimizing a neural network with backward propagation.ipynb",
      "provenance": []
    },
    "kernelspec": {
      "name": "python3",
      "display_name": "Python 3"
    },
    "language_info": {
      "name": "python"
    }
  },
  "cells": [
    {
      "cell_type": "markdown",
      "source": [
        "Optimization"
      ],
      "metadata": {
        "id": "_h9Ep1j93-Qq"
      }
    },
    {
      "cell_type": "code",
      "execution_count": null,
      "metadata": {
        "id": "9yr2EYCt359I"
      },
      "outputs": [],
      "source": [
        "# The data point you will make a prediction for\n",
        "input_data = np.array([0, 3])\n",
        "\n",
        "# Sample weights\n",
        "weights_0 = {'node_0': [2, 1],\n",
        "             'node_1': [1, 2],\n",
        "             'output': [1, 1]\n",
        "            }\n",
        "\n",
        "# The actual target value, used to calculate the error\n",
        "target_actual = 3\n",
        "\n",
        "# Make prediction using original weights\n",
        "model_output_0 = predict_with_network(input_data, weights_0)\n",
        "\n",
        "# Calculate error: error_0\n",
        "error_0 = model_output_0 - target_actual\n",
        "\n",
        "# Create weights that cause the network to make perfect prediction (3): weights_1\n",
        "weights_1 = {'node_0': [2, 1],\n",
        "             'node_1': [1, 2],\n",
        "             'output': [-1, 1]\n",
        "            }\n",
        "\n",
        "# Make prediction using new weights: model_output_1\n",
        "model_output_1 = predict_with_network(input_data, weights_1)\n",
        "\n",
        "# Calculate error: error_1\n",
        "error_1 = target_actual - model_output_1\n",
        "\n",
        "# Print error_0 and error_1\n",
        "print(error_0)\n",
        "print(error_1)"
      ]
    },
    {
      "cell_type": "markdown",
      "source": [
        "## Scaling up to multiple data points\n",
        "- 이제 weights_0 및 weights_1로 저장된 두 개의 서로 다른 가중치 세트에 대한 모델 정확도를 비교하는 코드를 작성합니다.\n",
        "\n",
        "### practice\n",
        "- 이 연습에서는 sklearn.metrics의 mean_squared_error() 함수를 사용합니다. 실제 값과 예측 값을 인수로 사용합니다.\n",
        "\n"
      ],
      "metadata": {
        "id": "_o4dGnX_4Unk"
      }
    },
    {
      "cell_type": "code",
      "source": [
        "from sklearn.metrics import mean_squared_error\n",
        "\n",
        "# Create model_output_0 \n",
        "model_output_0 = []\n",
        "# Create model_output_1\n",
        "model_output_1 = []\n",
        "\n",
        "# Loop over input_data\n",
        "for row in input_data:\n",
        "    # Append prediction to model_output_0\n",
        "    model_output_0.append(predict_with_network(row, weights_0))\n",
        "    \n",
        "    # Append prediction to model_output_1\n",
        "    model_output_1.append(predict_with_network(row, weights_1))\n",
        "\n",
        "# Calculate the mean squared error for model_output_0: mse_0\n",
        "mse_0 = mean_squared_error(target_actuals, model_output_0)\n",
        "\n",
        "# Calculate the mean squared error for model_output_1: mse_1\n",
        "mse_1 = mean_squared_error(target_actuals, model_output_1)\n",
        "\n",
        "# Print mse_0 and mse_1\n",
        "print(\"Mean squared error with weights_0: %f\" %mse_0)\n",
        "print(\"Mean squared error with weights_1: %f\" %mse_1)"
      ],
      "metadata": {
        "id": "svkKlFLX4jf4"
      },
      "execution_count": null,
      "outputs": []
    },
    {
      "cell_type": "markdown",
      "source": [
        "Gradient Descent\n",
        "\n"
      ],
      "metadata": {
        "id": "Y1ve-6fL5uGG"
      }
    },
    {
      "cell_type": "code",
      "source": [
        "!pip install numpy"
      ],
      "metadata": {
        "colab": {
          "base_uri": "https://localhost:8080/"
        },
        "id": "xVhD2I0rm_5H",
        "outputId": "52c82022-87d8-434d-934a-3c864edf4bd0"
      },
      "execution_count": 1,
      "outputs": [
        {
          "output_type": "stream",
          "name": "stdout",
          "text": [
            "Looking in indexes: https://pypi.org/simple, https://us-python.pkg.dev/colab-wheels/public/simple/\n",
            "Requirement already satisfied: numpy in /usr/local/lib/python3.7/dist-packages (1.21.6)\n"
          ]
        }
      ]
    },
    {
      "cell_type": "code",
      "source": [
        "import numpy as np\n",
        "\n",
        "weights = np.array([1, 2])\n",
        "input_data = np.array([3, 4])\n",
        "target =6\n",
        "learning_rate = 0.01\n",
        "preds = (weights * input_data).sum()\n",
        "error = preds - target\n",
        "print(error)"
      ],
      "metadata": {
        "colab": {
          "base_uri": "https://localhost:8080/"
        },
        "id": "5zfJXUtZnFr5",
        "outputId": "74d6ffe0-d44a-4756-a2f6-5b3ff8d4e5a4"
      },
      "execution_count": 3,
      "outputs": [
        {
          "output_type": "stream",
          "name": "stdout",
          "text": [
            "5\n"
          ]
        }
      ]
    },
    {
      "cell_type": "code",
      "source": [
        "gradient = 2 * input_data * error\n",
        "\n",
        "weights_updated = weights - learning_rate * gradient\n",
        "preds_updated = (weights_updated * input_data).sum()\n",
        "error_updated = preds_updated - target\n",
        "print(error_updated)"
      ],
      "metadata": {
        "colab": {
          "base_uri": "https://localhost:8080/"
        },
        "id": "i3Dbs1G7nbqu",
        "outputId": "91ec182e-713b-4058-ba86-997dd96c4cce"
      },
      "execution_count": 4,
      "outputs": [
        {
          "output_type": "stream",
          "name": "stdout",
          "text": [
            "2.5\n"
          ]
        }
      ]
    },
    {
      "cell_type": "code",
      "source": [
        "# Calculate the predictions: preds\n",
        "# Calculate the predictions, preds, by multiplying weights by the input_data and computing their sum.\n",
        "preds = (weights * input_data).sum()\n",
        "\n",
        "# Calculate the error: error\n",
        "# Calculate the error, which is preds minus target. Notice that this error corresponds to xb-y in the gradient expression.\n",
        "error = preds - target\n",
        "\n",
        "# Calculate the slope: slope\n",
        "# Calculate the slope of the loss function with respect to the prediction. \n",
        "# To do this, you need to take the product of input_data and error and multiply that by 2.\n",
        "slope = input_data * error * 2\n",
        "\n",
        "# Print the slope\n",
        "print(slope)"
      ],
      "metadata": {
        "id": "fXIQ-kvGpup7"
      },
      "execution_count": null,
      "outputs": []
    },
    {
      "cell_type": "code",
      "source": [
        "# Set the learning rate: learning_rate\n",
        "learning_rate = 0.01\n",
        "\n",
        "# Calculate the predictions: preds\n",
        "preds = (weights * input_data).sum()\n",
        "\n",
        "# Calculate the error: error\n",
        "error = preds - target\n",
        "\n",
        "# Calculate the slope: slope\n",
        "slope = 2 * input_data * error\n",
        "\n",
        "# Update the weights: weights_updated\n",
        "weights_updated = weights - learning_rate * slope\n",
        "\n",
        "# Get updated predictions: preds_updated\n",
        "preds_updated = (weights_updated * input_data).sum()\n",
        "\n",
        "# Calculate updated error: error_updated\n",
        "error_updated = preds_updated - target"
      ],
      "metadata": {
        "id": "CUtybzicqnul"
      },
      "execution_count": null,
      "outputs": []
    },
    {
      "cell_type": "markdown",
      "source": [
        "# pre-loaded \n",
        "- get_slope() function :input_data, target, and weights as arguments.\n",
        "-get_mse() function: takes the same arguments. The input_data, target, and weights"
      ],
      "metadata": {
        "id": "y1iauFmOtB8S"
      }
    },
    {
      "cell_type": "code",
      "source": [
        "'''\n",
        "Using a for loop to iteratively update weights:\n",
        "Calculate the slope using the get_slope() function.\n",
        "Update the weights using a learning rate of 0.01.\n",
        "Calculate the mean squared error (mse) with the updated weights using the get_mse() function.\n",
        "Append mse to mse_hist\n",
        "'''\n",
        "n_updates = 20\n",
        "mse_hist = []\n",
        "\n",
        "# Iterate over the number of updates\n",
        "for i in range(n_updates):\n",
        "    # Calculate the slope: slope\n",
        "    slope = get_slope(input_data, target, weights)\n",
        "    \n",
        "    # Update the weights: weights\n",
        "    weights = weights - 0.01 * slope\n",
        "    \n",
        "    # Calculate mse with new weights: mse\n",
        "    mse = get_mse(input_data, target, weights)\n",
        "    \n",
        "    # Append the mse to mse_hist\n",
        "    mse_hist.append(mse)\n",
        "\n",
        "# Plot the mse history\n",
        "plt.plot(mse_hist)\n",
        "plt.xlabel('Iterations')\n",
        "plt.ylabel('Mean Squared Error')\n",
        "plt.show()"
      ],
      "metadata": {
        "id": "tc9KydG4s3Hh"
      },
      "execution_count": null,
      "outputs": []
    },
    {
      "cell_type": "markdown",
      "source": [
        ""
      ],
      "metadata": {
        "id": "jd1enp22tTCW"
      }
    }
  ]
}